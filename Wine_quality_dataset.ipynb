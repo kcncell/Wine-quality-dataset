{
 "cells": [
  {
   "cell_type": "code",
   "execution_count": 1,
   "id": "60418205",
   "metadata": {},
   "outputs": [],
   "source": [
    "import pandas as pd\n",
    "import numpy as np\n",
    "from tensorflow import keras\n",
    "import seaborn as sns"
   ]
  },
  {
   "cell_type": "code",
   "execution_count": 2,
   "id": "77f667fe",
   "metadata": {},
   "outputs": [
    {
     "data": {
      "text/html": [
       "<div>\n",
       "<style scoped>\n",
       "    .dataframe tbody tr th:only-of-type {\n",
       "        vertical-align: middle;\n",
       "    }\n",
       "\n",
       "    .dataframe tbody tr th {\n",
       "        vertical-align: top;\n",
       "    }\n",
       "\n",
       "    .dataframe thead th {\n",
       "        text-align: right;\n",
       "    }\n",
       "</style>\n",
       "<table border=\"1\" class=\"dataframe\">\n",
       "  <thead>\n",
       "    <tr style=\"text-align: right;\">\n",
       "      <th></th>\n",
       "      <th>fixed acidity</th>\n",
       "      <th>volatile acidity</th>\n",
       "      <th>citric acid</th>\n",
       "      <th>residual sugar</th>\n",
       "      <th>chlorides</th>\n",
       "      <th>free sulfur dioxide</th>\n",
       "      <th>total sulfur dioxide</th>\n",
       "      <th>density</th>\n",
       "      <th>pH</th>\n",
       "      <th>sulphates</th>\n",
       "      <th>alcohol</th>\n",
       "      <th>quality</th>\n",
       "    </tr>\n",
       "  </thead>\n",
       "  <tbody>\n",
       "    <tr>\n",
       "      <th>0</th>\n",
       "      <td>7.4</td>\n",
       "      <td>0.70</td>\n",
       "      <td>0.00</td>\n",
       "      <td>1.9</td>\n",
       "      <td>0.076</td>\n",
       "      <td>11.0</td>\n",
       "      <td>34.0</td>\n",
       "      <td>0.9978</td>\n",
       "      <td>3.51</td>\n",
       "      <td>0.56</td>\n",
       "      <td>9.4</td>\n",
       "      <td>5</td>\n",
       "    </tr>\n",
       "    <tr>\n",
       "      <th>1</th>\n",
       "      <td>7.8</td>\n",
       "      <td>0.88</td>\n",
       "      <td>0.00</td>\n",
       "      <td>2.6</td>\n",
       "      <td>0.098</td>\n",
       "      <td>25.0</td>\n",
       "      <td>67.0</td>\n",
       "      <td>0.9968</td>\n",
       "      <td>3.20</td>\n",
       "      <td>0.68</td>\n",
       "      <td>9.8</td>\n",
       "      <td>5</td>\n",
       "    </tr>\n",
       "    <tr>\n",
       "      <th>2</th>\n",
       "      <td>7.8</td>\n",
       "      <td>0.76</td>\n",
       "      <td>0.04</td>\n",
       "      <td>2.3</td>\n",
       "      <td>0.092</td>\n",
       "      <td>15.0</td>\n",
       "      <td>54.0</td>\n",
       "      <td>0.9970</td>\n",
       "      <td>3.26</td>\n",
       "      <td>0.65</td>\n",
       "      <td>9.8</td>\n",
       "      <td>5</td>\n",
       "    </tr>\n",
       "    <tr>\n",
       "      <th>3</th>\n",
       "      <td>11.2</td>\n",
       "      <td>0.28</td>\n",
       "      <td>0.56</td>\n",
       "      <td>1.9</td>\n",
       "      <td>0.075</td>\n",
       "      <td>17.0</td>\n",
       "      <td>60.0</td>\n",
       "      <td>0.9980</td>\n",
       "      <td>3.16</td>\n",
       "      <td>0.58</td>\n",
       "      <td>9.8</td>\n",
       "      <td>6</td>\n",
       "    </tr>\n",
       "    <tr>\n",
       "      <th>4</th>\n",
       "      <td>7.4</td>\n",
       "      <td>0.70</td>\n",
       "      <td>0.00</td>\n",
       "      <td>1.9</td>\n",
       "      <td>0.076</td>\n",
       "      <td>11.0</td>\n",
       "      <td>34.0</td>\n",
       "      <td>0.9978</td>\n",
       "      <td>3.51</td>\n",
       "      <td>0.56</td>\n",
       "      <td>9.4</td>\n",
       "      <td>5</td>\n",
       "    </tr>\n",
       "  </tbody>\n",
       "</table>\n",
       "</div>"
      ],
      "text/plain": [
       "   fixed acidity  volatile acidity  citric acid  residual sugar  chlorides  \\\n",
       "0            7.4              0.70         0.00             1.9      0.076   \n",
       "1            7.8              0.88         0.00             2.6      0.098   \n",
       "2            7.8              0.76         0.04             2.3      0.092   \n",
       "3           11.2              0.28         0.56             1.9      0.075   \n",
       "4            7.4              0.70         0.00             1.9      0.076   \n",
       "\n",
       "   free sulfur dioxide  total sulfur dioxide  density    pH  sulphates  \\\n",
       "0                 11.0                  34.0   0.9978  3.51       0.56   \n",
       "1                 25.0                  67.0   0.9968  3.20       0.68   \n",
       "2                 15.0                  54.0   0.9970  3.26       0.65   \n",
       "3                 17.0                  60.0   0.9980  3.16       0.58   \n",
       "4                 11.0                  34.0   0.9978  3.51       0.56   \n",
       "\n",
       "   alcohol  quality  \n",
       "0      9.4        5  \n",
       "1      9.8        5  \n",
       "2      9.8        5  \n",
       "3      9.8        6  \n",
       "4      9.4        5  "
      ]
     },
     "execution_count": 2,
     "metadata": {},
     "output_type": "execute_result"
    }
   ],
   "source": [
    "df = pd.read_csv('winequality-red.csv')\n",
    "df.head()"
   ]
  },
  {
   "cell_type": "code",
   "execution_count": 3,
   "id": "67768177",
   "metadata": {},
   "outputs": [
    {
     "data": {
      "text/html": [
       "<div>\n",
       "<style scoped>\n",
       "    .dataframe tbody tr th:only-of-type {\n",
       "        vertical-align: middle;\n",
       "    }\n",
       "\n",
       "    .dataframe tbody tr th {\n",
       "        vertical-align: top;\n",
       "    }\n",
       "\n",
       "    .dataframe thead th {\n",
       "        text-align: right;\n",
       "    }\n",
       "</style>\n",
       "<table border=\"1\" class=\"dataframe\">\n",
       "  <thead>\n",
       "    <tr style=\"text-align: right;\">\n",
       "      <th></th>\n",
       "      <th>fixed acidity</th>\n",
       "      <th>volatile acidity</th>\n",
       "      <th>citric acid</th>\n",
       "      <th>residual sugar</th>\n",
       "      <th>chlorides</th>\n",
       "      <th>free sulfur dioxide</th>\n",
       "      <th>total sulfur dioxide</th>\n",
       "      <th>density</th>\n",
       "      <th>pH</th>\n",
       "      <th>sulphates</th>\n",
       "      <th>alcohol</th>\n",
       "      <th>quality</th>\n",
       "    </tr>\n",
       "  </thead>\n",
       "  <tbody>\n",
       "    <tr>\n",
       "      <th>0</th>\n",
       "      <td>7.4</td>\n",
       "      <td>0.70</td>\n",
       "      <td>0.00</td>\n",
       "      <td>1.9</td>\n",
       "      <td>0.076</td>\n",
       "      <td>11.0</td>\n",
       "      <td>34.0</td>\n",
       "      <td>0.9978</td>\n",
       "      <td>3.51</td>\n",
       "      <td>0.56</td>\n",
       "      <td>9.4</td>\n",
       "      <td>5</td>\n",
       "    </tr>\n",
       "    <tr>\n",
       "      <th>1</th>\n",
       "      <td>7.8</td>\n",
       "      <td>0.88</td>\n",
       "      <td>0.00</td>\n",
       "      <td>2.6</td>\n",
       "      <td>0.098</td>\n",
       "      <td>25.0</td>\n",
       "      <td>67.0</td>\n",
       "      <td>0.9968</td>\n",
       "      <td>3.20</td>\n",
       "      <td>0.68</td>\n",
       "      <td>9.8</td>\n",
       "      <td>5</td>\n",
       "    </tr>\n",
       "    <tr>\n",
       "      <th>2</th>\n",
       "      <td>7.8</td>\n",
       "      <td>0.76</td>\n",
       "      <td>0.04</td>\n",
       "      <td>2.3</td>\n",
       "      <td>0.092</td>\n",
       "      <td>15.0</td>\n",
       "      <td>54.0</td>\n",
       "      <td>0.9970</td>\n",
       "      <td>3.26</td>\n",
       "      <td>0.65</td>\n",
       "      <td>9.8</td>\n",
       "      <td>5</td>\n",
       "    </tr>\n",
       "  </tbody>\n",
       "</table>\n",
       "</div>"
      ],
      "text/plain": [
       "   fixed acidity  volatile acidity  citric acid  residual sugar  chlorides  \\\n",
       "0            7.4              0.70         0.00             1.9      0.076   \n",
       "1            7.8              0.88         0.00             2.6      0.098   \n",
       "2            7.8              0.76         0.04             2.3      0.092   \n",
       "\n",
       "   free sulfur dioxide  total sulfur dioxide  density    pH  sulphates  \\\n",
       "0                 11.0                  34.0   0.9978  3.51       0.56   \n",
       "1                 25.0                  67.0   0.9968  3.20       0.68   \n",
       "2                 15.0                  54.0   0.9970  3.26       0.65   \n",
       "\n",
       "   alcohol  quality  \n",
       "0      9.4        5  \n",
       "1      9.8        5  \n",
       "2      9.8        5  "
      ]
     },
     "execution_count": 3,
     "metadata": {},
     "output_type": "execute_result"
    }
   ],
   "source": [
    "df.head(3)"
   ]
  },
  {
   "cell_type": "code",
   "execution_count": 4,
   "id": "7098f643",
   "metadata": {},
   "outputs": [
    {
     "name": "stdout",
     "output_type": "stream",
     "text": [
      "<class 'pandas.core.frame.DataFrame'>\n",
      "RangeIndex: 1599 entries, 0 to 1598\n",
      "Data columns (total 12 columns):\n",
      " #   Column                Non-Null Count  Dtype  \n",
      "---  ------                --------------  -----  \n",
      " 0   fixed acidity         1599 non-null   float64\n",
      " 1   volatile acidity      1599 non-null   float64\n",
      " 2   citric acid           1599 non-null   float64\n",
      " 3   residual sugar        1599 non-null   float64\n",
      " 4   chlorides             1599 non-null   float64\n",
      " 5   free sulfur dioxide   1599 non-null   float64\n",
      " 6   total sulfur dioxide  1599 non-null   float64\n",
      " 7   density               1599 non-null   float64\n",
      " 8   pH                    1599 non-null   float64\n",
      " 9   sulphates             1599 non-null   float64\n",
      " 10  alcohol               1599 non-null   float64\n",
      " 11  quality               1599 non-null   int64  \n",
      "dtypes: float64(11), int64(1)\n",
      "memory usage: 150.0 KB\n"
     ]
    }
   ],
   "source": [
    "df.info()"
   ]
  },
  {
   "cell_type": "code",
   "execution_count": 5,
   "id": "37cd8bd2",
   "metadata": {},
   "outputs": [
    {
     "data": {
      "text/plain": [
       "Index(['fixed acidity', 'volatile acidity', 'citric acid', 'residual sugar',\n",
       "       'chlorides', 'free sulfur dioxide', 'total sulfur dioxide', 'density',\n",
       "       'pH', 'sulphates', 'alcohol', 'quality'],\n",
       "      dtype='object')"
      ]
     },
     "execution_count": 5,
     "metadata": {},
     "output_type": "execute_result"
    }
   ],
   "source": [
    "df.columns"
   ]
  },
  {
   "cell_type": "code",
   "execution_count": 6,
   "id": "78a090f1",
   "metadata": {},
   "outputs": [
    {
     "data": {
      "text/plain": [
       "fixed acidity           0\n",
       "volatile acidity        0\n",
       "citric acid             0\n",
       "residual sugar          0\n",
       "chlorides               0\n",
       "free sulfur dioxide     0\n",
       "total sulfur dioxide    0\n",
       "density                 0\n",
       "pH                      0\n",
       "sulphates               0\n",
       "alcohol                 0\n",
       "quality                 0\n",
       "dtype: int64"
      ]
     },
     "execution_count": 6,
     "metadata": {},
     "output_type": "execute_result"
    }
   ],
   "source": [
    "df.isnull().sum()"
   ]
  },
  {
   "cell_type": "code",
   "execution_count": 7,
   "id": "0138d3c3",
   "metadata": {},
   "outputs": [
    {
     "data": {
      "text/plain": [
       "5    681\n",
       "6    638\n",
       "7    199\n",
       "4     53\n",
       "8     18\n",
       "3     10\n",
       "Name: quality, dtype: int64"
      ]
     },
     "execution_count": 7,
     "metadata": {},
     "output_type": "execute_result"
    }
   ],
   "source": [
    "df['quality'].value_counts()"
   ]
  },
  {
   "cell_type": "code",
   "execution_count": 8,
   "id": "b2253a4b",
   "metadata": {},
   "outputs": [
    {
     "data": {
      "text/html": [
       "<div>\n",
       "<style scoped>\n",
       "    .dataframe tbody tr th:only-of-type {\n",
       "        vertical-align: middle;\n",
       "    }\n",
       "\n",
       "    .dataframe tbody tr th {\n",
       "        vertical-align: top;\n",
       "    }\n",
       "\n",
       "    .dataframe thead th {\n",
       "        text-align: right;\n",
       "    }\n",
       "</style>\n",
       "<table border=\"1\" class=\"dataframe\">\n",
       "  <thead>\n",
       "    <tr style=\"text-align: right;\">\n",
       "      <th></th>\n",
       "      <th>fixed acidity</th>\n",
       "      <th>volatile acidity</th>\n",
       "      <th>citric acid</th>\n",
       "      <th>residual sugar</th>\n",
       "      <th>chlorides</th>\n",
       "      <th>free sulfur dioxide</th>\n",
       "      <th>total sulfur dioxide</th>\n",
       "      <th>density</th>\n",
       "      <th>pH</th>\n",
       "      <th>sulphates</th>\n",
       "      <th>alcohol</th>\n",
       "    </tr>\n",
       "  </thead>\n",
       "  <tbody>\n",
       "    <tr>\n",
       "      <th>0</th>\n",
       "      <td>7.4</td>\n",
       "      <td>0.70</td>\n",
       "      <td>0.0</td>\n",
       "      <td>1.9</td>\n",
       "      <td>0.076</td>\n",
       "      <td>11.0</td>\n",
       "      <td>34.0</td>\n",
       "      <td>0.9978</td>\n",
       "      <td>3.51</td>\n",
       "      <td>0.56</td>\n",
       "      <td>9.4</td>\n",
       "    </tr>\n",
       "    <tr>\n",
       "      <th>1</th>\n",
       "      <td>7.8</td>\n",
       "      <td>0.88</td>\n",
       "      <td>0.0</td>\n",
       "      <td>2.6</td>\n",
       "      <td>0.098</td>\n",
       "      <td>25.0</td>\n",
       "      <td>67.0</td>\n",
       "      <td>0.9968</td>\n",
       "      <td>3.20</td>\n",
       "      <td>0.68</td>\n",
       "      <td>9.8</td>\n",
       "    </tr>\n",
       "  </tbody>\n",
       "</table>\n",
       "</div>"
      ],
      "text/plain": [
       "   fixed acidity  volatile acidity  citric acid  residual sugar  chlorides  \\\n",
       "0            7.4              0.70          0.0             1.9      0.076   \n",
       "1            7.8              0.88          0.0             2.6      0.098   \n",
       "\n",
       "   free sulfur dioxide  total sulfur dioxide  density    pH  sulphates  \\\n",
       "0                 11.0                  34.0   0.9978  3.51       0.56   \n",
       "1                 25.0                  67.0   0.9968  3.20       0.68   \n",
       "\n",
       "   alcohol  \n",
       "0      9.4  \n",
       "1      9.8  "
      ]
     },
     "execution_count": 8,
     "metadata": {},
     "output_type": "execute_result"
    }
   ],
   "source": [
    "X = df.drop(columns='quality')\n",
    "y = df['quality']\n",
    "X.head(2)"
   ]
  },
  {
   "cell_type": "code",
   "execution_count": 9,
   "id": "06e4eeb1",
   "metadata": {},
   "outputs": [
    {
     "data": {
      "text/plain": [
       "0    5\n",
       "1    5\n",
       "Name: quality, dtype: int64"
      ]
     },
     "execution_count": 9,
     "metadata": {},
     "output_type": "execute_result"
    }
   ],
   "source": [
    "y.head(2)"
   ]
  },
  {
   "cell_type": "code",
   "execution_count": 10,
   "id": "13d1c1fa",
   "metadata": {},
   "outputs": [
    {
     "name": "stdout",
     "output_type": "stream",
     "text": [
      "0    5\n",
      "1    5\n",
      "2    5\n",
      "3    6\n",
      "4    5\n",
      "Name: quality, dtype: int64\n",
      "0    average\n",
      "1    average\n",
      "2    average\n",
      "3       good\n",
      "4    average\n",
      "Name: quality, dtype: category\n",
      "Categories (2, object): ['average' < 'good']\n"
     ]
    }
   ],
   "source": [
    "print(y[:5])\n",
    "bins = [0, 5.5, 8]\n",
    "labels = ['average', 'good']\n",
    "y = pd.cut(y, bins=bins, labels=labels)\n",
    "print(y[:5])"
   ]
  },
  {
   "cell_type": "code",
   "execution_count": 11,
   "id": "a1b69a63",
   "metadata": {},
   "outputs": [],
   "source": [
    "from sklearn.preprocessing import LabelEncoder, StandardScaler"
   ]
  },
  {
   "cell_type": "code",
   "execution_count": 13,
   "id": "0ea9c590",
   "metadata": {},
   "outputs": [
    {
     "name": "stdout",
     "output_type": "stream",
     "text": [
      "[0 0 0 1 0]\n"
     ]
    }
   ],
   "source": [
    "le = LabelEncoder()\n",
    "y = le.fit_transform(y)\n",
    "print(y[:5])"
   ]
  },
  {
   "cell_type": "code",
   "execution_count": 15,
   "id": "6b9ac3bb",
   "metadata": {},
   "outputs": [],
   "source": [
    "sc = StandardScaler()\n",
    "X = sc.fit_transform(X)"
   ]
  },
  {
   "cell_type": "code",
   "execution_count": 16,
   "id": "9e10bd83",
   "metadata": {},
   "outputs": [
    {
     "data": {
      "text/plain": [
       "(1599, 11)"
      ]
     },
     "execution_count": 16,
     "metadata": {},
     "output_type": "execute_result"
    }
   ],
   "source": [
    "X.shape"
   ]
  },
  {
   "cell_type": "code",
   "execution_count": 17,
   "id": "15b7e53a",
   "metadata": {},
   "outputs": [],
   "source": [
    "from sklearn.model_selection import train_test_split\n",
    "x_train, x_test, y_train, y_test = train_test_split(X, y, test_size=.25, shuffle=True,  random_state=69)"
   ]
  },
  {
   "cell_type": "code",
   "execution_count": 18,
   "id": "29e745dd",
   "metadata": {},
   "outputs": [],
   "source": [
    "from sklearn.ensemble import RandomForestClassifier"
   ]
  },
  {
   "cell_type": "code",
   "execution_count": 19,
   "id": "911fdf38",
   "metadata": {},
   "outputs": [
    {
     "name": "stdout",
     "output_type": "stream",
     "text": [
      "[1 0 1 1 0]\n",
      "[1 0 1 0 0]\n"
     ]
    }
   ],
   "source": [
    "rfc = RandomForestClassifier()\n",
    "rfc.fit(x_train, y_train)\n",
    "prediction = rfc.predict(x_test)\n",
    "print(prediction[:5])\n",
    "print(y_test[:5])"
   ]
  },
  {
   "cell_type": "code",
   "execution_count": 20,
   "id": "8bdd1daa",
   "metadata": {},
   "outputs": [],
   "source": [
    "from sklearn.metrics import accuracy_score, confusion_matrix"
   ]
  },
  {
   "cell_type": "code",
   "execution_count": 21,
   "id": "8be3a9bc",
   "metadata": {},
   "outputs": [
    {
     "name": "stdout",
     "output_type": "stream",
     "text": [
      "0.805\n",
      "[[147  40]\n",
      " [ 38 175]]\n"
     ]
    }
   ],
   "source": [
    "print(accuracy_score(y_test, prediction))\n",
    "print(confusion_matrix(y_test, prediction))"
   ]
  },
  {
   "cell_type": "code",
   "execution_count": 22,
   "id": "cb918fcb",
   "metadata": {},
   "outputs": [
    {
     "name": "stdout",
     "output_type": "stream",
     "text": [
      "[1 1 0 1 0]\n",
      "[[0. 1.]\n",
      " [0. 1.]\n",
      " [1. 0.]\n",
      " [0. 1.]\n",
      " [1. 0.]]\n"
     ]
    }
   ],
   "source": [
    "print(y_train[:5])\n",
    "\n",
    "y_train = keras.utils.to_categorical(y_train, num_classes=2)\n",
    "\n",
    "print(y_train[:5])"
   ]
  },
  {
   "cell_type": "code",
   "execution_count": 23,
   "id": "e67cb15f",
   "metadata": {},
   "outputs": [],
   "source": [
    "from keras.models import Sequential\n",
    "from keras.layers import Dense, Dropout"
   ]
  },
  {
   "cell_type": "code",
   "execution_count": 24,
   "id": "3a4aba3c",
   "metadata": {},
   "outputs": [
    {
     "name": "stdout",
     "output_type": "stream",
     "text": [
      "Metal device set to: Apple M1\n"
     ]
    },
    {
     "name": "stderr",
     "output_type": "stream",
     "text": [
      "2023-02-24 04:38:11.978094: I tensorflow/core/common_runtime/pluggable_device/pluggable_device_factory.cc:306] Could not identify NUMA node of platform GPU ID 0, defaulting to 0. Your kernel may not have been built with NUMA support.\n",
      "2023-02-24 04:38:11.978830: I tensorflow/core/common_runtime/pluggable_device/pluggable_device_factory.cc:272] Created TensorFlow device (/job:localhost/replica:0/task:0/device:GPU:0 with 0 MB memory) -> physical PluggableDevice (device: 0, name: METAL, pci bus id: <undefined>)\n"
     ]
    }
   ],
   "source": [
    "model = Sequential()\n",
    "model.add(Dense(units=64, activation='relu', input_shape=(x_train.shape[1],)))\n",
    "model.add(Dense(units=128, activation='relu'))\n",
    "model.add(Dropout(0.25))\n",
    "model.add(Dense(units=64, activation='relu'))\n",
    "model.add(Dense(units=2, activation='softmax'))"
   ]
  },
  {
   "cell_type": "code",
   "execution_count": 25,
   "id": "e0f5bd31",
   "metadata": {},
   "outputs": [
    {
     "name": "stdout",
     "output_type": "stream",
     "text": [
      "Model: \"sequential\"\n",
      "_________________________________________________________________\n",
      " Layer (type)                Output Shape              Param #   \n",
      "=================================================================\n",
      " dense (Dense)               (None, 64)                768       \n",
      "                                                                 \n",
      " dense_1 (Dense)             (None, 128)               8320      \n",
      "                                                                 \n",
      " dropout (Dropout)           (None, 128)               0         \n",
      "                                                                 \n",
      " dense_2 (Dense)             (None, 64)                8256      \n",
      "                                                                 \n",
      " dense_3 (Dense)             (None, 2)                 130       \n",
      "                                                                 \n",
      "=================================================================\n",
      "Total params: 17,474\n",
      "Trainable params: 17,474\n",
      "Non-trainable params: 0\n",
      "_________________________________________________________________\n"
     ]
    }
   ],
   "source": [
    "model.compile(optimizer='Adam', loss='categorical_crossentropy', metrics=['accuracy'])\n",
    "model.summary()"
   ]
  },
  {
   "cell_type": "code",
   "execution_count": 26,
   "id": "6803214c",
   "metadata": {},
   "outputs": [
    {
     "name": "stdout",
     "output_type": "stream",
     "text": [
      "Epoch 1/100\n"
     ]
    },
    {
     "name": "stderr",
     "output_type": "stream",
     "text": [
      "2023-02-24 04:40:25.987617: W tensorflow/core/platform/profile_utils/cpu_utils.cc:128] Failed to get CPU frequency: 0 Hz\n",
      "2023-02-24 04:40:26.165361: I tensorflow/core/grappler/optimizers/custom_graph_optimizer_registry.cc:114] Plugin optimizer for device_type GPU is enabled.\n"
     ]
    },
    {
     "name": "stdout",
     "output_type": "stream",
     "text": [
      "2/2 - 0s - loss: 0.6920 - accuracy: 0.5229 - 376ms/epoch - 188ms/step\n",
      "Epoch 2/100\n",
      "2/2 - 0s - loss: 0.6471 - accuracy: 0.6722 - 24ms/epoch - 12ms/step\n",
      "Epoch 3/100\n",
      "2/2 - 0s - loss: 0.6192 - accuracy: 0.7239 - 21ms/epoch - 11ms/step\n",
      "Epoch 4/100\n",
      "2/2 - 0s - loss: 0.5999 - accuracy: 0.7181 - 20ms/epoch - 10ms/step\n",
      "Epoch 5/100\n",
      "2/2 - 0s - loss: 0.5755 - accuracy: 0.7389 - 19ms/epoch - 10ms/step\n",
      "Epoch 6/100\n",
      "2/2 - 0s - loss: 0.5527 - accuracy: 0.7415 - 20ms/epoch - 10ms/step\n",
      "Epoch 7/100\n",
      "2/2 - 0s - loss: 0.5442 - accuracy: 0.7440 - 21ms/epoch - 10ms/step\n",
      "Epoch 8/100\n",
      "2/2 - 0s - loss: 0.5392 - accuracy: 0.7448 - 20ms/epoch - 10ms/step\n",
      "Epoch 9/100\n",
      "2/2 - 0s - loss: 0.5342 - accuracy: 0.7406 - 21ms/epoch - 10ms/step\n",
      "Epoch 10/100\n",
      "2/2 - 0s - loss: 0.5365 - accuracy: 0.7506 - 22ms/epoch - 11ms/step\n",
      "Epoch 11/100\n",
      "2/2 - 0s - loss: 0.5240 - accuracy: 0.7531 - 21ms/epoch - 10ms/step\n",
      "Epoch 12/100\n",
      "2/2 - 0s - loss: 0.5231 - accuracy: 0.7506 - 20ms/epoch - 10ms/step\n",
      "Epoch 13/100\n",
      "2/2 - 0s - loss: 0.5222 - accuracy: 0.7423 - 21ms/epoch - 10ms/step\n",
      "Epoch 14/100\n",
      "2/2 - 0s - loss: 0.5163 - accuracy: 0.7590 - 20ms/epoch - 10ms/step\n",
      "Epoch 15/100\n",
      "2/2 - 0s - loss: 0.5103 - accuracy: 0.7598 - 20ms/epoch - 10ms/step\n",
      "Epoch 16/100\n",
      "2/2 - 0s - loss: 0.5162 - accuracy: 0.7490 - 22ms/epoch - 11ms/step\n",
      "Epoch 17/100\n",
      "2/2 - 0s - loss: 0.5085 - accuracy: 0.7556 - 22ms/epoch - 11ms/step\n",
      "Epoch 18/100\n",
      "2/2 - 0s - loss: 0.4989 - accuracy: 0.7581 - 20ms/epoch - 10ms/step\n",
      "Epoch 19/100\n",
      "2/2 - 0s - loss: 0.5061 - accuracy: 0.7573 - 19ms/epoch - 10ms/step\n",
      "Epoch 20/100\n",
      "2/2 - 0s - loss: 0.4960 - accuracy: 0.7681 - 21ms/epoch - 10ms/step\n",
      "Epoch 21/100\n",
      "2/2 - 0s - loss: 0.4986 - accuracy: 0.7598 - 20ms/epoch - 10ms/step\n",
      "Epoch 22/100\n",
      "2/2 - 0s - loss: 0.4929 - accuracy: 0.7640 - 21ms/epoch - 10ms/step\n",
      "Epoch 23/100\n",
      "2/2 - 0s - loss: 0.4906 - accuracy: 0.7606 - 21ms/epoch - 10ms/step\n",
      "Epoch 24/100\n",
      "2/2 - 0s - loss: 0.4902 - accuracy: 0.7681 - 21ms/epoch - 11ms/step\n",
      "Epoch 25/100\n",
      "2/2 - 0s - loss: 0.4795 - accuracy: 0.7715 - 21ms/epoch - 10ms/step\n",
      "Epoch 26/100\n",
      "2/2 - 0s - loss: 0.4813 - accuracy: 0.7648 - 26ms/epoch - 13ms/step\n",
      "Epoch 27/100\n",
      "2/2 - 0s - loss: 0.4804 - accuracy: 0.7581 - 21ms/epoch - 11ms/step\n",
      "Epoch 28/100\n",
      "2/2 - 0s - loss: 0.4796 - accuracy: 0.7673 - 21ms/epoch - 10ms/step\n",
      "Epoch 29/100\n",
      "2/2 - 0s - loss: 0.4760 - accuracy: 0.7615 - 20ms/epoch - 10ms/step\n",
      "Epoch 30/100\n",
      "2/2 - 0s - loss: 0.4650 - accuracy: 0.7731 - 22ms/epoch - 11ms/step\n",
      "Epoch 31/100\n",
      "2/2 - 0s - loss: 0.4724 - accuracy: 0.7673 - 20ms/epoch - 10ms/step\n",
      "Epoch 32/100\n",
      "2/2 - 0s - loss: 0.4688 - accuracy: 0.7723 - 21ms/epoch - 11ms/step\n",
      "Epoch 33/100\n",
      "2/2 - 0s - loss: 0.4728 - accuracy: 0.7723 - 21ms/epoch - 10ms/step\n",
      "Epoch 34/100\n",
      "2/2 - 0s - loss: 0.4648 - accuracy: 0.7765 - 22ms/epoch - 11ms/step\n",
      "Epoch 35/100\n",
      "2/2 - 0s - loss: 0.4616 - accuracy: 0.7840 - 23ms/epoch - 11ms/step\n",
      "Epoch 36/100\n",
      "2/2 - 0s - loss: 0.4631 - accuracy: 0.7832 - 20ms/epoch - 10ms/step\n",
      "Epoch 37/100\n",
      "2/2 - 0s - loss: 0.4550 - accuracy: 0.7923 - 21ms/epoch - 11ms/step\n",
      "Epoch 38/100\n",
      "2/2 - 0s - loss: 0.4585 - accuracy: 0.7740 - 21ms/epoch - 10ms/step\n",
      "Epoch 39/100\n",
      "2/2 - 0s - loss: 0.4574 - accuracy: 0.7731 - 22ms/epoch - 11ms/step\n",
      "Epoch 40/100\n",
      "2/2 - 0s - loss: 0.4542 - accuracy: 0.7840 - 21ms/epoch - 10ms/step\n",
      "Epoch 41/100\n",
      "2/2 - 0s - loss: 0.4494 - accuracy: 0.7965 - 20ms/epoch - 10ms/step\n",
      "Epoch 42/100\n",
      "2/2 - 0s - loss: 0.4477 - accuracy: 0.7848 - 23ms/epoch - 11ms/step\n",
      "Epoch 43/100\n",
      "2/2 - 0s - loss: 0.4443 - accuracy: 0.7990 - 22ms/epoch - 11ms/step\n",
      "Epoch 44/100\n",
      "2/2 - 0s - loss: 0.4566 - accuracy: 0.7840 - 20ms/epoch - 10ms/step\n",
      "Epoch 45/100\n",
      "2/2 - 0s - loss: 0.4419 - accuracy: 0.7923 - 20ms/epoch - 10ms/step\n",
      "Epoch 46/100\n",
      "2/2 - 0s - loss: 0.4389 - accuracy: 0.7965 - 21ms/epoch - 11ms/step\n",
      "Epoch 47/100\n",
      "2/2 - 0s - loss: 0.4474 - accuracy: 0.7890 - 19ms/epoch - 10ms/step\n",
      "Epoch 48/100\n",
      "2/2 - 0s - loss: 0.4455 - accuracy: 0.7907 - 22ms/epoch - 11ms/step\n",
      "Epoch 49/100\n",
      "2/2 - 0s - loss: 0.4450 - accuracy: 0.7882 - 21ms/epoch - 10ms/step\n",
      "Epoch 50/100\n",
      "2/2 - 0s - loss: 0.4525 - accuracy: 0.7932 - 32ms/epoch - 16ms/step\n",
      "Epoch 51/100\n",
      "2/2 - 0s - loss: 0.4368 - accuracy: 0.8015 - 21ms/epoch - 10ms/step\n",
      "Epoch 52/100\n",
      "2/2 - 0s - loss: 0.4302 - accuracy: 0.7998 - 20ms/epoch - 10ms/step\n",
      "Epoch 53/100\n",
      "2/2 - 0s - loss: 0.4388 - accuracy: 0.7965 - 19ms/epoch - 9ms/step\n",
      "Epoch 54/100\n",
      "2/2 - 0s - loss: 0.4338 - accuracy: 0.7857 - 20ms/epoch - 10ms/step\n",
      "Epoch 55/100\n",
      "2/2 - 0s - loss: 0.4252 - accuracy: 0.8007 - 22ms/epoch - 11ms/step\n",
      "Epoch 56/100\n",
      "2/2 - 0s - loss: 0.4300 - accuracy: 0.8023 - 19ms/epoch - 10ms/step\n",
      "Epoch 57/100\n",
      "2/2 - 0s - loss: 0.4272 - accuracy: 0.8015 - 21ms/epoch - 10ms/step\n",
      "Epoch 58/100\n",
      "2/2 - 0s - loss: 0.4215 - accuracy: 0.8023 - 21ms/epoch - 10ms/step\n",
      "Epoch 59/100\n",
      "2/2 - 0s - loss: 0.4283 - accuracy: 0.7973 - 20ms/epoch - 10ms/step\n",
      "Epoch 60/100\n",
      "2/2 - 0s - loss: 0.4241 - accuracy: 0.8057 - 20ms/epoch - 10ms/step\n",
      "Epoch 61/100\n",
      "2/2 - 0s - loss: 0.4281 - accuracy: 0.8023 - 20ms/epoch - 10ms/step\n",
      "Epoch 62/100\n",
      "2/2 - 0s - loss: 0.4220 - accuracy: 0.8023 - 20ms/epoch - 10ms/step\n",
      "Epoch 63/100\n",
      "2/2 - 0s - loss: 0.4199 - accuracy: 0.8015 - 20ms/epoch - 10ms/step\n",
      "Epoch 64/100\n",
      "2/2 - 0s - loss: 0.4155 - accuracy: 0.8098 - 21ms/epoch - 10ms/step\n",
      "Epoch 65/100\n",
      "2/2 - 0s - loss: 0.4185 - accuracy: 0.8057 - 20ms/epoch - 10ms/step\n",
      "Epoch 66/100\n",
      "2/2 - 0s - loss: 0.4202 - accuracy: 0.8048 - 21ms/epoch - 10ms/step\n",
      "Epoch 67/100\n",
      "2/2 - 0s - loss: 0.4181 - accuracy: 0.8082 - 20ms/epoch - 10ms/step\n",
      "Epoch 68/100\n",
      "2/2 - 0s - loss: 0.4167 - accuracy: 0.8073 - 21ms/epoch - 10ms/step\n",
      "Epoch 69/100\n",
      "2/2 - 0s - loss: 0.4094 - accuracy: 0.8090 - 20ms/epoch - 10ms/step\n",
      "Epoch 70/100\n",
      "2/2 - 0s - loss: 0.4111 - accuracy: 0.8090 - 21ms/epoch - 11ms/step\n",
      "Epoch 71/100\n",
      "2/2 - 0s - loss: 0.4111 - accuracy: 0.8032 - 19ms/epoch - 10ms/step\n",
      "Epoch 72/100\n",
      "2/2 - 0s - loss: 0.4116 - accuracy: 0.8082 - 20ms/epoch - 10ms/step\n",
      "Epoch 73/100\n",
      "2/2 - 0s - loss: 0.4066 - accuracy: 0.8090 - 19ms/epoch - 10ms/step\n",
      "Epoch 74/100\n",
      "2/2 - 0s - loss: 0.4125 - accuracy: 0.8148 - 20ms/epoch - 10ms/step\n",
      "Epoch 75/100\n",
      "2/2 - 0s - loss: 0.4079 - accuracy: 0.8132 - 21ms/epoch - 10ms/step\n",
      "Epoch 76/100\n",
      "2/2 - 0s - loss: 0.4027 - accuracy: 0.8157 - 20ms/epoch - 10ms/step\n",
      "Epoch 77/100\n",
      "2/2 - 0s - loss: 0.4004 - accuracy: 0.8240 - 20ms/epoch - 10ms/step\n",
      "Epoch 78/100\n",
      "2/2 - 0s - loss: 0.4014 - accuracy: 0.8132 - 21ms/epoch - 10ms/step\n",
      "Epoch 79/100\n",
      "2/2 - 0s - loss: 0.3961 - accuracy: 0.8182 - 20ms/epoch - 10ms/step\n",
      "Epoch 80/100\n",
      "2/2 - 0s - loss: 0.4001 - accuracy: 0.8132 - 21ms/epoch - 10ms/step\n",
      "Epoch 81/100\n",
      "2/2 - 0s - loss: 0.3881 - accuracy: 0.8215 - 20ms/epoch - 10ms/step\n",
      "Epoch 82/100\n",
      "2/2 - 0s - loss: 0.4008 - accuracy: 0.8123 - 21ms/epoch - 10ms/step\n",
      "Epoch 83/100\n",
      "2/2 - 0s - loss: 0.3917 - accuracy: 0.8182 - 20ms/epoch - 10ms/step\n",
      "Epoch 84/100\n",
      "2/2 - 0s - loss: 0.3966 - accuracy: 0.8207 - 20ms/epoch - 10ms/step\n",
      "Epoch 85/100\n",
      "2/2 - 0s - loss: 0.3818 - accuracy: 0.8182 - 20ms/epoch - 10ms/step\n",
      "Epoch 86/100\n",
      "2/2 - 0s - loss: 0.3965 - accuracy: 0.8224 - 20ms/epoch - 10ms/step\n",
      "Epoch 87/100\n",
      "2/2 - 0s - loss: 0.3940 - accuracy: 0.8165 - 19ms/epoch - 9ms/step\n",
      "Epoch 88/100\n",
      "2/2 - 0s - loss: 0.3903 - accuracy: 0.8249 - 19ms/epoch - 10ms/step\n",
      "Epoch 89/100\n",
      "2/2 - 0s - loss: 0.3901 - accuracy: 0.8198 - 21ms/epoch - 10ms/step\n",
      "Epoch 90/100\n",
      "2/2 - 0s - loss: 0.3903 - accuracy: 0.8165 - 22ms/epoch - 11ms/step\n",
      "Epoch 91/100\n",
      "2/2 - 0s - loss: 0.3786 - accuracy: 0.8198 - 20ms/epoch - 10ms/step\n",
      "Epoch 92/100\n",
      "2/2 - 0s - loss: 0.3746 - accuracy: 0.8265 - 21ms/epoch - 11ms/step\n",
      "Epoch 93/100\n",
      "2/2 - 0s - loss: 0.3759 - accuracy: 0.8274 - 21ms/epoch - 10ms/step\n",
      "Epoch 94/100\n",
      "2/2 - 0s - loss: 0.3772 - accuracy: 0.8173 - 20ms/epoch - 10ms/step\n",
      "Epoch 95/100\n",
      "2/2 - 0s - loss: 0.3802 - accuracy: 0.8257 - 21ms/epoch - 11ms/step\n",
      "Epoch 96/100\n",
      "2/2 - 0s - loss: 0.3793 - accuracy: 0.8198 - 22ms/epoch - 11ms/step\n",
      "Epoch 97/100\n",
      "2/2 - 0s - loss: 0.3695 - accuracy: 0.8224 - 20ms/epoch - 10ms/step\n",
      "Epoch 98/100\n",
      "2/2 - 0s - loss: 0.3636 - accuracy: 0.8315 - 21ms/epoch - 10ms/step\n",
      "Epoch 99/100\n",
      "2/2 - 0s - loss: 0.3735 - accuracy: 0.8332 - 21ms/epoch - 11ms/step\n",
      "Epoch 100/100\n",
      "2/2 - 0s - loss: 0.3665 - accuracy: 0.8340 - 20ms/epoch - 10ms/step\n"
     ]
    },
    {
     "data": {
      "text/plain": [
       "<keras.callbacks.History at 0x17c6c7790>"
      ]
     },
     "execution_count": 26,
     "metadata": {},
     "output_type": "execute_result"
    }
   ],
   "source": [
    "model.fit(x_train, y_train, batch_size=1000, epochs=100, verbose=2)"
   ]
  },
  {
   "cell_type": "code",
   "execution_count": 27,
   "id": "3625db0b",
   "metadata": {},
   "outputs": [
    {
     "name": "stdout",
     "output_type": "stream",
     "text": [
      "13/13 [==============================] - 0s 3ms/step\n",
      "[[5.3238979e-04 9.9946767e-01]\n",
      " [9.6463037e-01 3.5369657e-02]\n",
      " [8.2964048e-02 9.1703594e-01]\n",
      " [3.9116837e-02 9.6088314e-01]\n",
      " [7.2834700e-01 2.7165303e-01]]\n"
     ]
    },
    {
     "name": "stderr",
     "output_type": "stream",
     "text": [
      "2023-02-24 04:41:28.218960: I tensorflow/core/grappler/optimizers/custom_graph_optimizer_registry.cc:114] Plugin optimizer for device_type GPU is enabled.\n"
     ]
    }
   ],
   "source": [
    "prediction = model.predict(x_test)\n",
    "print(prediction[:5])"
   ]
  },
  {
   "cell_type": "code",
   "execution_count": 28,
   "id": "feda87e0",
   "metadata": {},
   "outputs": [
    {
     "name": "stdout",
     "output_type": "stream",
     "text": [
      "[1 0 1 1 0]\n"
     ]
    }
   ],
   "source": [
    "prediction = np.argmax(prediction, axis=-1)\n",
    "print(prediction[:5])"
   ]
  },
  {
   "cell_type": "code",
   "execution_count": 29,
   "id": "010d6f3c",
   "metadata": {},
   "outputs": [
    {
     "name": "stdout",
     "output_type": "stream",
     "text": [
      "[1 0 1 0 0]\n"
     ]
    }
   ],
   "source": [
    "print(y_test[:5])"
   ]
  },
  {
   "cell_type": "code",
   "execution_count": 30,
   "id": "e3d5b67f",
   "metadata": {},
   "outputs": [
    {
     "name": "stdout",
     "output_type": "stream",
     "text": [
      "0.765\n"
     ]
    }
   ],
   "source": [
    "print(accuracy_score(y_test, prediction))"
   ]
  },
  {
   "cell_type": "code",
   "execution_count": 31,
   "id": "fdf98986",
   "metadata": {},
   "outputs": [
    {
     "name": "stdout",
     "output_type": "stream",
     "text": [
      "[[140  47]\n",
      " [ 47 166]]\n"
     ]
    }
   ],
   "source": [
    "conf_matrix = confusion_matrix(y_test, prediction)\n",
    "print(conf_matrix)"
   ]
  },
  {
   "cell_type": "code",
   "execution_count": 35,
   "id": "67feb7e7",
   "metadata": {},
   "outputs": [
    {
     "data": {
      "text/plain": [
       "Text(50.722222222222214, 0.5, 'actual')"
      ]
     },
     "execution_count": 35,
     "metadata": {},
     "output_type": "execute_result"
    },
    {
     "data": {
      "image/png": "[encoded data removed]",
      "text/plain": [
       "<Figure size 640x480 with 2 Axes>"
      ]
     },
     "metadata": {},
     "output_type": "display_data"
    }
   ],
   "source": [
    "label = ['average','good']\n",
    "ax = sns.heatmap(conf_matrix, annot=True, fmt='d', cmap='Reds', xticklabels=label, yticklabels=label)\n",
    "ax.set_title('confusion matrix for wine quality dataset')\n",
    "ax.set_xlabel('prediction', fontsize=16)\n",
    "ax.set_ylabel('actual', fontsize=16)"
   ]
  },
  {
   "cell_type": "code",
   "execution_count": null,
   "id": "1bff7b89",
   "metadata": {},
   "outputs": [],
   "source": []
  }
 ],
 "metadata": {
  "kernelspec": {
   "display_name": "Python 3 (ipykernel)",
   "language": "python",
   "name": "python3"
  },
  "language_info": {
   "codemirror_mode": {
    "name": "ipython",
    "version": 3
   },
   "file_extension": ".py",
   "mimetype": "text/x-python",
   "name": "python",
   "nbconvert_exporter": "python",
   "pygments_lexer": "ipython3",
   "version": "3.10.8"
  }
 },
 "nbformat": 4,
 "nbformat_minor": 5
}
